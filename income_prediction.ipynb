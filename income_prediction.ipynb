{
 "cells": [
  {
   "cell_type": "code",
   "execution_count": 56,
   "metadata": {},
   "outputs": [
    {
     "name": "stdout",
     "output_type": "stream",
     "text": [
      "Python: 3.7.3 (default, Apr 24 2019, 15:29:51) [MSC v.1915 64 bit (AMD64)]\n"
     ]
    }
   ],
   "source": [
    "import sys\n",
    "import math\n",
    "import sklearn\n",
    "import statistics\n",
    "import numpy as np\n",
    "import pandas as pd\n",
    "import seaborn as sns\n",
    "from time import time\n",
    "import matplotlib.pyplot as plt\n",
    "from sklearn import linear_model\n",
    "from sklearn.metrics import mean_squared_error\n",
    "from sklearn.ensemble import RandomForestRegressor\n",
    "from sklearn.preprocessing import PolynomialFeatures\n",
    "%config IPcompletor.greedy = True\n",
    "print(\"Python: {}\".format(sys.version))"
   ]
  },
  {
   "cell_type": "code",
   "execution_count": 57,
   "metadata": {},
   "outputs": [],
   "source": [
    "train_set = pd.read_csv(\"tcd ml 2019-20 income prediction training (with labels).csv\", index_col = 0)\n",
    "test_set = pd.read_csv(\"tcd ml 2019-20 income prediction test (without labels).csv\", index_col = 0)"
   ]
  },
  {
   "cell_type": "code",
   "execution_count": 58,
   "metadata": {},
   "outputs": [],
   "source": [
    "train_set[train_set.columns]=train_set[train_set.columns].fillna(train_set.mode().iloc[0])\n",
    "test_set[test_set.columns]=test_set[test_set.columns].fillna(train_set.mode().iloc[0])"
   ]
  },
  {
   "cell_type": "markdown",
   "metadata": {},
   "source": [
    "### Encoding\n",
    " --for categorical data"
   ]
  },
  {
   "cell_type": "code",
   "execution_count": 59,
   "metadata": {},
   "outputs": [],
   "source": [
    "t = train_set.Profession.value_counts()\n",
    "p = t[t <10].index.tolist()\n",
    "p.extend(set(test_set[\"Profession\"].values) - set(t.index.tolist()))\n",
    "t = train_set.Country.value_counts()\n",
    "c = t[t <10].index.tolist()\n",
    "c.extend(set(test_set[\"Country\"].values) - set(t.index.tolist()))"
   ]
  },
  {
   "cell_type": "code",
   "execution_count": 60,
   "metadata": {},
   "outputs": [],
   "source": [
    "t = dict((k,\"Rare\") for k in p)\n",
    "train_set[\"Profession\"] = train_set[\"Profession\"].replace(t)\n",
    "test_set[\"Profession\"] = test_set[\"Profession\"].replace(t)\n",
    "c = dict((k,\"Rare\") for k in c)\n",
    "train_set[\"Country\"] = train_set[\"Country\"].replace(c)\n",
    "test_set[\"Country\"] = test_set[\"Country\"].replace(c)"
   ]
  },
  {
   "cell_type": "markdown",
   "metadata": {},
   "source": [
    "### Outlier Detection"
   ]
  },
  {
   "cell_type": "code",
   "execution_count": 62,
   "metadata": {},
   "outputs": [],
   "source": [
    "# res = train_set.groupby(\"Profession\")[\"Income in EUR\"].quantile([0.01, 0.99]).unstack(level=1)\n",
    "# train_set = train_set.loc[((res.loc[train_set.Profession, 0.01] < train_set[\"Income in EUR\"].values) & (train_set[\"Income in EUR\"].values < res.loc[train_set.Profession, 0.99])).values]\n",
    "# temp.shape\n",
    "# res = train_set.groupby(\"Country\")[\"Income in EUR\"].quantile([0.001, 0.999]).unstack(level=1)\n",
    "# train_set = train_set.loc[((res.loc[train_set.Country, 0.001] < train_set[\"Income in EUR\"].values) & (train_set[\"Income in EUR\"].values < res.loc[train_set.Country, 0.999])).values]\n"
   ]
  },
  {
   "cell_type": "code",
   "execution_count": 63,
   "metadata": {},
   "outputs": [],
   "source": [
    "prof = train_set.groupby('Profession').agg({\"Income in EUR\": 'mean'})\n",
    "prof = dict(zip(prof.index, prof[\"Income in EUR\"]))\n",
    "country = train_set.groupby('Country').agg({\"Income in EUR\": 'mean'})\n",
    "country = dict(zip(country.index, country[\"Income in EUR\"]))\n",
    "degree = train_set.groupby('University Degree').agg({\"Income in EUR\": 'mean'})\n",
    "degree = dict(zip(degree.index, degree[\"Income in EUR\"]))\n",
    "gender = train_set.groupby('Gender').agg({\"Income in EUR\": 'mean'})\n",
    "gender = dict(zip(gender.index, gender[\"Income in EUR\"]))\n",
    "color = train_set.groupby('Hair Color').agg({\"Income in EUR\": 'mean'})\n",
    "color = dict(zip(color.index, color[\"Income in EUR\"]))"
   ]
  },
  {
   "cell_type": "code",
   "execution_count": 66,
   "metadata": {
    "scrolled": false
   },
   "outputs": [
    {
     "name": "stderr",
     "output_type": "stream",
     "text": [
      "C:\\Users\\vansh\\Anaconda3\\lib\\site-packages\\ipykernel_launcher.py:3: FutureWarning: Sorting because non-concatenation axis is not aligned. A future version\n",
      "of pandas will change to not sort by default.\n",
      "\n",
      "To accept the future behavior, pass 'sort=False'.\n",
      "\n",
      "To retain the current behavior and silence the warning, pass 'sort=True'.\n",
      "\n",
      "  This is separate from the ipykernel package so we can avoid doing imports until\n"
     ]
    }
   ],
   "source": [
    "train_set[\"train\"] = 1\n",
    "test_set[\"train\"] = 0\n",
    "train_db = pd.concat([train_set,test_set])"
   ]
  },
  {
   "cell_type": "code",
   "execution_count": 68,
   "metadata": {},
   "outputs": [],
   "source": [
    "train_db[\"Profession\"] = train_db[\"Profession\"].replace(prof)\n",
    "train_db[\"Country\"] = train_db[\"Country\"].replace(country)\n",
    "train_db[\"University Degree\"] = train_db[\"University Degree\"].replace(degree)\n",
    "train_db[\"Gender\"] = train_db[\"Gender\"].replace(gender)\n",
    "train_db[\"Hair Color\"] = train_db[\"Hair Color\"].replace(color)"
   ]
  },
  {
   "cell_type": "markdown",
   "metadata": {},
   "source": [
    "### Data Cleaning\n",
    "1. Removing NULL values\n",
    "2. Noise\n",
    "3. Inconsistent Data"
   ]
  },
  {
   "cell_type": "code",
   "execution_count": 70,
   "metadata": {},
   "outputs": [],
   "source": [
    "train_db = train_db.rename(columns= {\"Body Height [cm]\":  \"Body Height\"})"
   ]
  },
  {
   "cell_type": "code",
   "execution_count": 71,
   "metadata": {},
   "outputs": [],
   "source": [
    "train_db[\"Year of Record\"] = train_db[\"Year of Record\"].fillna(statistics.median(train_db['Year of Record'])).astype('int')\n",
    "train_db[\"Age\"] = train_db[\"Age\"].fillna(statistics.median(train_db['Age'])).astype('int')"
   ]
  },
  {
   "cell_type": "markdown",
   "metadata": {},
   "source": [
    "## Split"
   ]
  },
  {
   "cell_type": "code",
   "execution_count": 82,
   "metadata": {},
   "outputs": [],
   "source": [
    "# train_db = train_db.drop(columns=[\"Gender\", \"Hair Color\"])"
   ]
  },
  {
   "cell_type": "code",
   "execution_count": 83,
   "metadata": {},
   "outputs": [],
   "source": [
    "train = train_db[train_db[\"train\"] ==1].drop(columns=[\"Income in EUR\",\"Income\", \"train\"], axis =1)\n",
    "test = train_db[train_db[\"train\"] ==0].drop(columns=[\"Income in EUR\",\"Income\", \"train\"], axis =1)\n",
    "train_income = train_db[train_db[\"train\"] ==1][\"Income in EUR\"]"
   ]
  },
  {
   "cell_type": "code",
   "execution_count": 84,
   "metadata": {},
   "outputs": [
    {
     "data": {
      "text/plain": [
       "Age                  0\n",
       "Body Height          0\n",
       "Country              0\n",
       "Gender               0\n",
       "Hair Color           0\n",
       "Profession           0\n",
       "Size of City         0\n",
       "University Degree    0\n",
       "Wears Glasses        0\n",
       "Year of Record       0\n",
       "dtype: int64"
      ]
     },
     "execution_count": 84,
     "metadata": {},
     "output_type": "execute_result"
    }
   ],
   "source": [
    "test.isnull().sum()"
   ]
  },
  {
   "cell_type": "markdown",
   "metadata": {},
   "source": [
    "## MODEL CREATION"
   ]
  },
  {
   "cell_type": "code",
   "execution_count": 85,
   "metadata": {},
   "outputs": [],
   "source": [
    "submit = pd.read_csv(\"tcd ml 2019-20 income prediction submission file.csv\", index_col= 0)"
   ]
  },
  {
   "cell_type": "code",
   "execution_count": 86,
   "metadata": {},
   "outputs": [],
   "source": [
    "from sklearn.model_selection import train_test_split\n",
    "X_train, X_test, y_train, y_test = train_test_split(train, train_income, test_size=0.2, random_state=122)"
   ]
  },
  {
   "cell_type": "markdown",
   "metadata": {},
   "source": [
    "### Polynomial Regression"
   ]
  },
  {
   "cell_type": "code",
   "execution_count": 87,
   "metadata": {},
   "outputs": [],
   "source": [
    "from sklearn.preprocessing import PolynomialFeatures"
   ]
  },
  {
   "cell_type": "code",
   "execution_count": 88,
   "metadata": {},
   "outputs": [],
   "source": [
    "poly = PolynomialFeatures(degree=3, interaction_only = True)\n",
    "X_ = poly.fit_transform(X_train)\n",
    "test_ = poly.fit_transform(X_test)\n",
    "new_train = poly.fit_transform(train)\n",
    "new_test = poly.fit_transform(test)"
   ]
  },
  {
   "cell_type": "markdown",
   "metadata": {},
   "source": [
    "### Linear Regression"
   ]
  },
  {
   "cell_type": "code",
   "execution_count": null,
   "metadata": {},
   "outputs": [],
   "source": [
    "import math\n",
    "from sklearn.metrics import mean_squared_error"
   ]
  },
  {
   "cell_type": "code",
   "execution_count": null,
   "metadata": {},
   "outputs": [],
   "source": [
    "model = linear_model.LinearRegression()\n",
    "lmodel = model.fit(X_, y_train)\n",
    "\n",
    "y_pred = lmodel.predict(test_)\n",
    "math.sqrt(mean_squared_error(y_test, y_pred))"
   ]
  },
  {
   "cell_type": "code",
   "execution_count": null,
   "metadata": {},
   "outputs": [],
   "source": [
    "model = linear_model.LinearRegression()\n",
    "lmodel = model.fit(train, train_income)\n",
    "\n",
    "y_pred = lmodel.predict(test)"
   ]
  },
  {
   "cell_type": "code",
   "execution_count": null,
   "metadata": {},
   "outputs": [],
   "source": [
    "from sklearn.svm import SVR\n",
    "from time import time"
   ]
  },
  {
   "cell_type": "markdown",
   "metadata": {},
   "source": [
    "### Support Vector Machine"
   ]
  },
  {
   "cell_type": "code",
   "execution_count": null,
   "metadata": {},
   "outputs": [],
   "source": [
    "begin = time()\n",
    "model = SVR(kernel = 'linear', gamma='scale',epsilon=0.1)\n",
    "lmodel = model.fit(X_train, y_train)\n",
    "end = time()\n",
    "print(\"Time elapsed: {}\".format(end-begin))"
   ]
  },
  {
   "cell_type": "code",
   "execution_count": null,
   "metadata": {},
   "outputs": [],
   "source": [
    "y_pred = lmodel.predict(X_test)\n",
    "math.sqrt(mean_squared_error(y_test, y_pred))"
   ]
  },
  {
   "cell_type": "markdown",
   "metadata": {},
   "source": [
    "### Random Forest"
   ]
  },
  {
   "cell_type": "code",
   "execution_count": null,
   "metadata": {},
   "outputs": [],
   "source": [
    "from sklearn.ensemble import RandomForestClassifier\n",
    "begin = time()\n",
    "model = RandomForestRegressor(random_state=42, n_estimators=400, warm_start = True)\n",
    "lmodel = model.fit(X_train, y_train)\n",
    "end = time()\n",
    "print(\"Time elapsed: {}\".format(end-begin))"
   ]
  },
  {
   "cell_type": "code",
   "execution_count": 102,
   "metadata": {},
   "outputs": [
    {
     "name": "stderr",
     "output_type": "stream",
     "text": [
      "[Parallel(n_jobs=1)]: Using backend SequentialBackend with 1 concurrent workers.\n",
      "[Parallel(n_jobs=1)]: Done   1 out of   1 | elapsed:    0.0s remaining:    0.0s\n",
      "[Parallel(n_jobs=1)]: Done 400 out of 400 | elapsed:    4.5s finished\n"
     ]
    },
    {
     "data": {
      "text/plain": [
       "36024.65920344338"
      ]
     },
     "execution_count": 102,
     "metadata": {},
     "output_type": "execute_result"
    }
   ],
   "source": [
    "y_pred = lmodel.predict(X_test)\n",
    "math.sqrt(mean_squared_error(y_test, y_pred))"
   ]
  },
  {
   "cell_type": "code",
   "execution_count": 38,
   "metadata": {},
   "outputs": [
    {
     "name": "stdout",
     "output_type": "stream",
     "text": [
      "Time elapsed: 494.89382147789\n"
     ]
    }
   ],
   "source": [
    "begin = time()\n",
    "model = RandomForestRegressor(random_state=42, n_estimators=400, warm_start = True)\n",
    "lmodel = model.fit(train, train_income)\n",
    "end = time()\n",
    "print(\"Time elapsed: {}\".format(end-begin))\n",
    "y_pred = lmodel.predict(test)"
   ]
  },
  {
   "cell_type": "markdown",
   "metadata": {},
   "source": [
    "### XGBoost\n",
    "--with cross validation"
   ]
  },
  {
   "cell_type": "code",
   "execution_count": null,
   "metadata": {},
   "outputs": [],
   "source": [
    "data_dmatrix = xgb.DMatrix(data=train,label=train_income)\n",
    "params = {\"objective\": \"reg:linear\", \"random_state\": 123, \"learning_rate\": 0.15, \"max_depth\" : 7, \"subsample\": 0.75, \n",
    "                         \"colsample_bytree\" : 0.7, \"booster\" : 'gbtree'}\n",
    "cv_results = xgb.cv(dtrain=data_dmatrix, params=params, nfold=4,\n",
    "                    num_boost_round=100,early_stopping_rounds=10,metrics=\"rmse\", as_pandas=True, seed=223)\n",
    "cv_results.tail()"
   ]
  },
  {
   "cell_type": "code",
   "execution_count": 21,
   "metadata": {},
   "outputs": [
    {
     "name": "stdout",
     "output_type": "stream",
     "text": [
      "[13:34:40] WARNING: C:/Jenkins/workspace/xgboost-win64_release_0.90/src/objective/regression_obj.cu:152: reg:linear is now deprecated in favor of reg:squarederror.\n"
     ]
    },
    {
     "data": {
      "image/png": "[encoded data removed]",
      "text/plain": [
       "<Figure size 432x288 with 1 Axes>"
      ]
     },
     "metadata": {
      "needs_background": "light"
     },
     "output_type": "display_data"
    }
   ],
   "source": [
    "xg_reg = xgb.train(params=params, dtrain=data_dmatrix, num_boost_round=10)\n",
    "xgb.plot_importance(xg_reg)\n",
    "plt.rcParams['figure.figsize'] = [5, 5]\n",
    "plt.show()"
   ]
  },
  {
   "cell_type": "code",
   "execution_count": 41,
   "metadata": {},
   "outputs": [],
   "source": [
    "from sklearn.model_selection import KFold, RandomizedSearchCV, GridSearchCV\n",
    "kfold = KFold(n_splits =5, shuffle=False)\n",
    "rmse_scores = []\n",
    "folds = 3\n",
    "param_comb = 5\n",
    "params = {\n",
    "        'min_child_weight': [1, 5, 10],\n",
    "        'gamma': [0.5, 1, 1.5, 2, 5],\n",
    "        'subsample': [0.6, 0.8, 1.0, 0.75],\n",
    "        'colsample_bytree': [0.6, 0.8, 1.0, 0.85],\n",
    "        'max_depth': [3, 4, 5, 6, 7, 8],\n",
    "        'learning_rate': [0.1, 0.2, 0.5, 0.05],\n",
    "        'n_estimator': [80, 100, 70, 60, 200]\n",
    "        }"
   ]
  },
  {
   "cell_type": "code",
   "execution_count": 89,
   "metadata": {},
   "outputs": [
    {
     "name": "stderr",
     "output_type": "stream",
     "text": [
      "C:\\Users\\vansh\\Anaconda3\\lib\\site-packages\\xgboost\\core.py:587: FutureWarning: Series.base is deprecated and will be removed in a future version\n",
      "  if getattr(data, 'base', None) is not None and \\\n"
     ]
    },
    {
     "name": "stdout",
     "output_type": "stream",
     "text": [
      "[23:52:20] WARNING: C:/Jenkins/workspace/xgboost-win64_release_0.90/src/objective/regression_obj.cu:152: reg:linear is now deprecated in favor of reg:squarederror.\n",
      "Time elapsed: 138.99601340293884\n"
     ]
    },
    {
     "data": {
      "text/plain": [
       "53962.645469043535"
      ]
     },
     "execution_count": 89,
     "metadata": {},
     "output_type": "execute_result"
    }
   ],
   "source": [
    "import xgboost as xgb\n",
    "import statistics\n",
    "begin = time()\n",
    "\n",
    "model = xgb.XGBRegressor(objective=\"reg:linear\", random_state=145, learning_rate = 0.1, max_depth = 7, subsample= 0.75, \n",
    "                         colsample_bytree = 0.9, n_estimators=80)\n",
    "# random_search = GridSearchCV(model, param_grid=params, n_jobs=-1)\n",
    "# for train_idx, test_idx in kfold.split(train):\n",
    "#     X_train, y_train, X_valid, y_valid = train[train_idx], train_income[train_idx], train[test_idx], train_income[test_idx]\n",
    "lmodel = model.fit(X_, y_train)\n",
    "y_pred = lmodel.predict(test_)\n",
    "# rmse_scores.append(math.sqrt(mean_squared_error(y_test, y_pred)))\n",
    "end = time()\n",
    "print(\"Time elapsed: {}\".format(end-begin))\n",
    "# y_pred = cross_val_predict(lmodel, X_test, cv=10)\n",
    "# y_pred = lmodel.predict(X_test)\n",
    "math.sqrt(mean_squared_error(y_test, y_pred))"
   ]
  },
  {
   "cell_type": "code",
   "execution_count": 96,
   "metadata": {},
   "outputs": [
    {
     "name": "stdout",
     "output_type": "stream",
     "text": [
      "[23:59:29] WARNING: C:/Jenkins/workspace/xgboost-win64_release_0.90/src/objective/regression_obj.cu:152: reg:linear is now deprecated in favor of reg:squarederror.\n",
      "Time elapsed: 186.737957239151\n"
     ]
    }
   ],
   "source": [
    "begin = time()\n",
    "model = xgb.XGBRegressor(objective=\"reg:linear\", random_state=140, learning_rate = 0.1, max_depth = 7, subsample= 0.75, \n",
    "                         colsample_bytree = 0.9, n_estimators=80)\n",
    "lmodel = model.fit(new_train, train_income)\n",
    "end = time()\n",
    "print(\"Time elapsed: {}\".format(end-begin))\n",
    "y_pred = lmodel.predict(new_test)"
   ]
  },
  {
   "cell_type": "markdown",
   "metadata": {},
   "source": [
    "## KNN"
   ]
  },
  {
   "cell_type": "code",
   "execution_count": null,
   "metadata": {},
   "outputs": [],
   "source": [
    "from sklearn import neighbors\n",
    "begin = time()\n",
    "model = neighbors.KNeighborsRegressor(n_neighbors = 107)\n",
    "lmodel = model.fit(X_train, y_train)\n",
    "end = time()\n",
    "print(\"Time elapsed: {}\".format(end-begin))\n",
    "y_pred = lmodel.predict(X_test)\n",
    "math.sqrt(mean_squared_error(y_test, y_pred))"
   ]
  },
  {
   "cell_type": "code",
   "execution_count": null,
   "metadata": {},
   "outputs": [],
   "source": [
    "from sklearn.model_selection import GridSearchCV\n",
    "params = {'n_neighbors':[21, 22,23,24, 25,26,27,28,29,30 ]}\n",
    "\n",
    "knn = neighbors.KNeighborsRegressor()\n",
    "\n",
    "model = GridSearchCV(knn, params, cv=5)\n",
    "model.fit(X_train,y_train)\n",
    "model.best_params_"
   ]
  },
  {
   "cell_type": "markdown",
   "metadata": {},
   "source": [
    "## Decision Tree"
   ]
  },
  {
   "cell_type": "code",
   "execution_count": 19,
   "metadata": {},
   "outputs": [
    {
     "data": {
      "text/plain": [
       "array([0.6920059 , 0.68275332, 0.62374457, 0.66352634, 0.55277182,\n",
       "       0.70031145, 0.64329849, 0.69199835, 0.65355293, 0.68163334,\n",
       "       0.68652761, 0.63072705, 0.56980449, 0.67705928, 0.68301221,\n",
       "       0.75316579, 0.7055189 , 0.61963735, 0.73879632, 0.64324346,\n",
       "       0.66227077, 0.71761778, 0.6273328 , 0.75427479, 0.6517717 ,\n",
       "       0.63206473, 0.60323423, 0.71242704, 0.64507502, 0.65246756,\n",
       "       0.72151913, 0.64174699, 0.61614238, 0.68347153, 0.67370904,\n",
       "       0.59182153, 0.66024207, 0.71152851, 0.76493018, 0.69579225,\n",
       "       0.74576291, 0.73522636, 0.70760334, 0.64216747, 0.72974338,\n",
       "       0.7285919 , 0.62451864, 0.51862191, 0.6363468 ])"
      ]
     },
     "execution_count": 19,
     "metadata": {},
     "output_type": "execute_result"
    }
   ],
   "source": [
    "from sklearn.tree import DecisionTreeRegressor\n",
    "from sklearn.model_selection import cross_val_score\n",
    "regressor = DecisionTreeRegressor(random_state=0)\n",
    "cross_val_score(regressor, train, train_income, cv=49)"
   ]
  },
  {
   "cell_type": "markdown",
   "metadata": {},
   "source": [
    "### Submission"
   ]
  },
  {
   "cell_type": "code",
   "execution_count": 97,
   "metadata": {
    "scrolled": true
   },
   "outputs": [
    {
     "data": {
      "text/html": [
       "<div>\n",
       "<style scoped>\n",
       "    .dataframe tbody tr th:only-of-type {\n",
       "        vertical-align: middle;\n",
       "    }\n",
       "\n",
       "    .dataframe tbody tr th {\n",
       "        vertical-align: top;\n",
       "    }\n",
       "\n",
       "    .dataframe thead th {\n",
       "        text-align: right;\n",
       "    }\n",
       "</style>\n",
       "<table border=\"1\" class=\"dataframe\">\n",
       "  <thead>\n",
       "    <tr style=\"text-align: right;\">\n",
       "      <th></th>\n",
       "      <th>Income</th>\n",
       "    </tr>\n",
       "    <tr>\n",
       "      <th>Instance</th>\n",
       "      <th></th>\n",
       "    </tr>\n",
       "  </thead>\n",
       "  <tbody>\n",
       "    <tr>\n",
       "      <th>111994</th>\n",
       "      <td>35552.507812</td>\n",
       "    </tr>\n",
       "    <tr>\n",
       "      <th>111995</th>\n",
       "      <td>11573.395508</td>\n",
       "    </tr>\n",
       "    <tr>\n",
       "      <th>111996</th>\n",
       "      <td>28929.787109</td>\n",
       "    </tr>\n",
       "    <tr>\n",
       "      <th>111997</th>\n",
       "      <td>114239.734375</td>\n",
       "    </tr>\n",
       "    <tr>\n",
       "      <th>111998</th>\n",
       "      <td>29116.521484</td>\n",
       "    </tr>\n",
       "  </tbody>\n",
       "</table>\n",
       "</div>"
      ],
      "text/plain": [
       "                 Income\n",
       "Instance               \n",
       "111994     35552.507812\n",
       "111995     11573.395508\n",
       "111996     28929.787109\n",
       "111997    114239.734375\n",
       "111998     29116.521484"
      ]
     },
     "execution_count": 97,
     "metadata": {},
     "output_type": "execute_result"
    }
   ],
   "source": [
    "submit[\"Income\"] = y_pred\n",
    "submit.head()"
   ]
  },
  {
   "cell_type": "code",
   "execution_count": 98,
   "metadata": {},
   "outputs": [],
   "source": [
    "submit.to_csv(r\"C:\\Users\\vansh\\TCD MAI\\Machine Learning\\IndividualAssignment\\MLbasic\\prediction.csv\", index = True)"
   ]
  }
 ],
 "metadata": {
  "kernelspec": {
   "display_name": "Python 3",
   "language": "python",
   "name": "python3"
  },
  "language_info": {
   "codemirror_mode": {
    "name": "ipython",
    "version": 3
   },
   "file_extension": ".py",
   "mimetype": "text/x-python",
   "name": "python",
   "nbconvert_exporter": "python",
   "pygments_lexer": "ipython3",
   "version": "3.7.3"
  }
 },
 "nbformat": 4,
 "nbformat_minor": 2
}
